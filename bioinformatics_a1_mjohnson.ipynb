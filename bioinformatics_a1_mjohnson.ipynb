{
 "cells": [
  {
   "cell_type": "markdown",
   "metadata": {},
   "source": [
    "# BioInformatics Assignment 1: H3N2 Protein Sequences\n",
    "**- Matthew Johnson, Sept. 19, 2018**\n",
    "- Sequence length 500-600 aa\n",
    "\n",
    "The influenza virus A is responsible for some of the worst pandemics in history. The 1918 flu pandemic was an unusually deadly influenza pandemic involving H1N1 influenza virus. It infected 500 million people across the world and resulted in the deaths of 50 to 100 million (three to five percent of the world's population). \n",
    "**In this assignment we want to investigate one subtype of influenza virus A: H3N2.**<br>\n",
    "*Please collect H3N2 protein sequences, put them into one text file (.txt or equivalent) and submit through moodle.*\n",
    "1. Using **FASTA** format\n",
    "2. Each sequence is named as: **[location]/[year]**, if multiple sequence exist for the same location and year, you may use [location]/[year]/[number].\n",
    "3. Do not include many sequences with the same location and same year. Normally less than 3.\n",
    "4. The number of sequences should be in the range of 20 to 50.\n",
    "5. The sequences should reflect the overview of H3N2's distribution."
   ]
  },
  {
   "cell_type": "markdown",
   "metadata": {},
   "source": [
    "**Import Useful Libraries:**"
   ]
  },
  {
   "cell_type": "code",
   "execution_count": 2,
   "metadata": {
    "collapsed": true
   },
   "outputs": [],
   "source": [
    "import re\n",
    "import time\n",
    "import selenium\n",
    "from selenium import webdriver\n",
    "import warnings\n",
    "warnings.filterwarnings('ignore')"
   ]
  },
  {
   "cell_type": "markdown",
   "metadata": {
    "collapsed": true
   },
   "source": [
    "**Method to label the [location]/[year]:**<br>\n",
    "- takes in a location and the fasta text\n",
    "- using regex, extracts year and removes text between parenthesis \"( ... )\"\n",
    "- returns text prefixed with location/year label"
   ]
  },
  {
   "cell_type": "code",
   "execution_count": 24,
   "metadata": {
    "collapsed": true
   },
   "outputs": [],
   "source": [
    "def label_fasta_format(country_, text_):\n",
    "    try:\n",
    "        year_ = re.findall('\\(.*?\\)',text_)[0].split('/')[-1].split('(')[0]\n",
    "        if int(year_) < 1900:\n",
    "            year_ = '#X#X#'\n",
    "        temp_text = re.sub(r\" ?\\([^)]+\\)\", \"\", text_)\n",
    "        prefix = country_ + '/' + year_ + '  '        \n",
    "    \n",
    "        return ( prefix + temp_text )\n",
    "    except:\n",
    "        return 'xxxx/xxxx  ' + text_\n",
    "        print('Label Error')"
   ]
  },
  {
   "cell_type": "markdown",
   "metadata": {
    "collapsed": true
   },
   "source": [
    "**Scrape the sequences, we chose locations and took ~2 from each one:**"
   ]
  },
  {
   "cell_type": "code",
   "execution_count": null,
   "metadata": {},
   "outputs": [],
   "source": [
    "countries = ['Ukraine', 'France', 'Spain', 'Germany', 'Mexico', 'Russia', 'China', 'South Korea', 'Japan',\n",
    "            'Alberta', 'Ontario', 'Chicago', 'Boston', 'Brazil', 'India', 'Sweden', 'Australia', 'New Zealand',\n",
    "            'Egypt', 'England' ]\n",
    "\n",
    "seq_list = []\n",
    "\n",
    "driver = webdriver.Firefox()\n",
    "\n",
    "for country in countries:\n",
    "    \n",
    "    # Bring up NCBI Webpage for Protein H3N2\n",
    "    driver.get('https://www.ncbi.nlm.nih.gov/protein/?term=H3N2')\n",
    "\n",
    "    # Text Box for Detailed Search\n",
    "    text_for_box = f'((\"H3N2 subtype\"[Organism] OR H3N2[All Fields]) AND {country}[All Fields]) AND (\"500\"[SLEN] : \"600\"[SLEN])'\n",
    "\n",
    "    # Send text to box\n",
    "    driver.find_element_by_xpath('/html/body/div/div[1]/form/div[1]/div[5]/div/div[4]/div[2]/div/textarea') \\\n",
    "                .send_keys(text_for_box)\n",
    "\n",
    "    # Press the Search Button\n",
    "    driver.find_element_by_xpath('//*[@id=\"ui-ncbibutton-5\"]').click()\n",
    "    \n",
    "    driver.implicitly_wait(3) # seconds\n",
    "    atts=0\n",
    "    \n",
    "    links = [link.get_attribute('href') for link in driver.find_elements_by_xpath('//*[@id=\"ReportShortCut6\"]')]\n",
    "      \n",
    "    for link in links[:2]:\n",
    "        \n",
    "        driver.implicitly_wait(3)\n",
    "        \n",
    "        attempts = 0\n",
    "        while( attempts < 5) :\n",
    "            try:\n",
    "                driver.get(link)\n",
    "                driver.implicitly_wait(5)\n",
    "                p = driver.find_element_by_xpath('/html/body/div/div[1]/form/div[1]/div[4]/div/div[5]/div[2]/div[1]/pre')\n",
    "                seq_list.append(label_fasta_format(country, p.text))\n",
    "                driver.back()\n",
    "                break\n",
    "            \n",
    "            except:\n",
    "                print('Error!')\n",
    "                attempts += 1\n",
    "                driver.implicitly_wait(5)\n",
    "        \n",
    "        print(len(seq_list))\n",
    "                \n",
    "driver.close()"
   ]
  },
  {
   "cell_type": "markdown",
   "metadata": {},
   "source": [
    "**Overview of Sequences:**"
   ]
  },
  {
   "cell_type": "code",
   "execution_count": 113,
   "metadata": {},
   "outputs": [
    {
     "name": "stdout",
     "output_type": "stream",
     "text": [
      "# Sequences: 40\n",
      "# Countries: 20\n"
     ]
    }
   ],
   "source": [
    "print('# Sequences:', len(seq_list))\n",
    "print('# Countries:', len(countries))"
   ]
  },
  {
   "cell_type": "markdown",
   "metadata": {},
   "source": [
    "**Removing Sequences with invalid Years:**"
   ]
  },
  {
   "cell_type": "code",
   "execution_count": 114,
   "metadata": {},
   "outputs": [
    {
     "name": "stdout",
     "output_type": "stream",
     "text": [
      "\n"
     ]
    }
   ],
   "source": [
    "new_seq_list = []\n",
    "seq_list2 = seq_list[:]\n",
    "\n",
    "for item in seq_list2:\n",
    "    if '#X#X#' in item:\n",
    "        new_seq_list.append(item)\n",
    "    elif \"xxxx/xxxx\" in item:\n",
    "        new_seq_list.append(item)\n",
    "        \n",
    "[seq_list2.remove(x) for x in new_seq_list]\n",
    "print()"
   ]
  },
  {
   "cell_type": "code",
   "execution_count": 115,
   "metadata": {},
   "outputs": [
    {
     "name": "stdout",
     "output_type": "stream",
     "text": [
      "# Good Sequences: 33\n",
      "# Not Used Sequences: 7\n"
     ]
    }
   ],
   "source": [
    "print('# Good Sequences:', len(seq_list2))\n",
    "print('# Not Used Sequences:', len(new_seq_list))"
   ]
  },
  {
   "cell_type": "markdown",
   "metadata": {},
   "source": [
    "**Saving the Data as a .txt:**"
   ]
  },
  {
   "cell_type": "code",
   "execution_count": 116,
   "metadata": {
    "collapsed": true
   },
   "outputs": [],
   "source": [
    "with open('h3n2_sequences_sep19_3.txt', 'w') as filehandle:  \n",
    "    for listitem in seq_list2:\n",
    "        filehandle.write('%s\\n\\n' % listitem)"
   ]
  },
  {
   "cell_type": "markdown",
   "metadata": {},
   "source": [
    "**Sample Entry:**"
   ]
  },
  {
   "cell_type": "code",
   "execution_count": 36,
   "metadata": {},
   "outputs": [
    {
     "data": {
      "text/plain": [
       "'Ukraine/2009  >AJK03248.1 hemagglutinin, partial [Influenza A virus)]\\nMKTIIALSHILCLVFAQKLPGNDNSTATLCLGHHAVPNGTIVKTITNDQIEVTNATELVQSSSTGEICDS\\nPHQILDGENCTLIDALLGDPQCDGFQNKKWDLFVERSKAYSNCYPYDVPDYASLRSLVASSGTLEFNNES\\nFNWTGVTQNGTSSACIRRSNNSFFSRLNWLTHLKFKYPALNVTMPNNEQFDKLYIWGVHHPGTDNDQIFL\\nYAQASGRITVSTKRSQQTVIPNIGSRPRVRNIPSRISIYWTIVKPGDILLINSTGNLIAPRGYFKIRSGK\\nSSIMRSDAPIGKCNSECITPNGSIPNDKPFQNVNRITYGACPRYVKQNTLKLATGMRNVPEKQTRGIFGA\\nIAGFIENGWEGMVDGWYGFRHQNSEGRGQAADLKSTQAAIDQINGKLNRLIGKTNEKFHQIEKEFSEVEG\\nRIQDLEKYVEDTKIDLWSYNAELLVALENQHTIDLTDSEMNKLFEKTKKQLRENAEDMGNGCFKIYHKCD\\nNACIGSIRNGTYDHDVYRDEALNNRFQIKGVELKSGYKDWILWISFAISCFLLCVALLGFIMWACQKGNI\\nRCNICI'"
      ]
     },
     "execution_count": 36,
     "metadata": {},
     "output_type": "execute_result"
    }
   ],
   "source": [
    "seq_list[0]"
   ]
  },
  {
   "cell_type": "code",
   "execution_count": null,
   "metadata": {
    "collapsed": true
   },
   "outputs": [],
   "source": []
  },
  {
   "cell_type": "markdown",
   "metadata": {},
   "source": [
    "**Rough Work:**"
   ]
  },
  {
   "cell_type": "code",
   "execution_count": 67,
   "metadata": {},
   "outputs": [],
   "source": [
    "s = seq_list[0]\n",
    "location = s.split('/')[0]\n",
    "x = s.split('/')[1]\n",
    "year = x.split('>')[0].strip()\n",
    "\n",
    "code = s.split('>')[0].strip()"
   ]
  },
  {
   "cell_type": "code",
   "execution_count": 81,
   "metadata": {},
   "outputs": [],
   "source": [
    "code_list = [s.split('>')[0].strip() for s in seq_list2]"
   ]
  },
  {
   "cell_type": "code",
   "execution_count": 91,
   "metadata": {},
   "outputs": [],
   "source": [
    "import pandas as pd\n",
    "\n",
    "df = pd.DataFrame({'code': code_list})\n",
    "repeats = pd.DataFrame( df['code'].value_counts() )\n",
    "repeats = repeats[ repeats['code'] >= 2]\n",
    "repeat_list = list(repeats.index)"
   ]
  },
  {
   "cell_type": "code",
   "execution_count": 101,
   "metadata": {},
   "outputs": [],
   "source": [
    "rep_dict = repeats.to_dict()"
   ]
  },
  {
   "cell_type": "code",
   "execution_count": 103,
   "metadata": {},
   "outputs": [],
   "source": [
    "rep_dict2 = rep_dict.get('code')"
   ]
  },
  {
   "cell_type": "code",
   "execution_count": 105,
   "metadata": {},
   "outputs": [
    {
     "data": {
      "text/plain": [
       "4"
      ]
     },
     "execution_count": 105,
     "metadata": {},
     "output_type": "execute_result"
    }
   ],
   "source": [
    "rep_dict2.get('Brazil/2011')"
   ]
  }
 ],
 "metadata": {
  "kernelspec": {
   "display_name": "Python 3",
   "language": "python",
   "name": "python3"
  },
  "language_info": {
   "codemirror_mode": {
    "name": "ipython",
    "version": 3
   },
   "file_extension": ".py",
   "mimetype": "text/x-python",
   "name": "python",
   "nbconvert_exporter": "python",
   "pygments_lexer": "ipython3",
   "version": "3.6.3"
  }
 },
 "nbformat": 4,
 "nbformat_minor": 2
}
